{
  "nbformat": 4,
  "nbformat_minor": 0,
  "metadata": {
    "colab": {
      "provenance": [],
      "authorship_tag": "ABX9TyMUpHbPVdZr4EeEy9UorRb1",
      "include_colab_link": true
    },
    "kernelspec": {
      "name": "python3",
      "display_name": "Python 3"
    },
    "language_info": {
      "name": "python"
    }
  },
  "cells": [
    {
      "cell_type": "markdown",
      "metadata": {
        "id": "view-in-github",
        "colab_type": "text"
      },
      "source": [
        "<a href=\"https://colab.research.google.com/github/gabrielass302/Programacion-Basica-302-I/blob/main/ActLab1.ipynb\" target=\"_parent\"><img src=\"https://colab.research.google.com/assets/colab-badge.svg\" alt=\"Open In Colab\"/></a>"
      ]
    },
    {
      "cell_type": "markdown",
      "source": [
        "actividad de laboratorio 1 impresion de mensajes"
      ],
      "metadata": {
        "id": "kPTqTrfwxhoV"
      }
    },
    {
      "cell_type": "markdown",
      "source": [
        "PB302_1.cpp Programa para Bienvenida"
      ],
      "metadata": {
        "id": "PNhvdc4bmvlI"
      }
    },
    {
      "cell_type": "code",
      "source": [
        "%%writefile PB302_1.cpp\n",
        "//Programa para imprimir mensaje de Bienvenida\n",
        "//Creado por Gabriela Salazar Santiago\n",
        "//fecha: 15/septiembre/2025\n",
        "//PB302_1.cpp\n",
        "#include <iostream>\n",
        "using namespace std;\n",
        "int main()\n",
        "{\n",
        "  cout<<\"Bienvenida gabriela a programacion basica en c++\\n\";\n",
        "  cout<<\"Gracias por programar en clase\";\n",
        "  return 0;\n",
        "}"
      ],
      "metadata": {
        "colab": {
          "base_uri": "https://localhost:8080/"
        },
        "id": "957qe_4pmPMP",
        "outputId": "afa40014-d41d-402e-9926-9af97004e2d4"
      },
      "execution_count": 12,
      "outputs": [
        {
          "output_type": "stream",
          "name": "stdout",
          "text": [
            "Overwriting PB302_1.cpp\n"
          ]
        }
      ]
    },
    {
      "cell_type": "code",
      "source": [
        "!g++ PB302_1.cpp -o PB302_1\n",
        "!./PB302_1"
      ],
      "metadata": {
        "colab": {
          "base_uri": "https://localhost:8080/"
        },
        "id": "-EyYJswbpx-W",
        "outputId": "3bd08a76-b7ca-4c74-8935-b636e0c56b98"
      },
      "execution_count": 13,
      "outputs": [
        {
          "output_type": "stream",
          "name": "stdout",
          "text": [
            "Bienvenida gabriela a programacion basica en c++\n",
            "Gracias por programar en clase"
          ]
        }
      ]
    }
  ]
}